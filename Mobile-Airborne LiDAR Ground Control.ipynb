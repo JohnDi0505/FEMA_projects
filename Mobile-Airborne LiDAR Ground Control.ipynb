{
 "cells": [
  {
   "cell_type": "code",
   "execution_count": 59,
   "id": "d343294e",
   "metadata": {},
   "outputs": [],
   "source": [
    "import laspy\n",
    "import numpy as np\n",
    "import geopandas as gpd\n",
    "from shapely.geometry import Polygon"
   ]
  },
  {
   "cell_type": "markdown",
   "id": "f45ad0ff",
   "metadata": {},
   "source": [
    "# Airborne LiDAR tile query"
   ]
  },
  {
   "cell_type": "code",
   "execution_count": 28,
   "id": "f4eb11c2",
   "metadata": {},
   "outputs": [
    {
     "data": {
      "text/html": [
       "<div>\n",
       "<style scoped>\n",
       "    .dataframe tbody tr th:only-of-type {\n",
       "        vertical-align: middle;\n",
       "    }\n",
       "\n",
       "    .dataframe tbody tr th {\n",
       "        vertical-align: top;\n",
       "    }\n",
       "\n",
       "    .dataframe thead th {\n",
       "        text-align: right;\n",
       "    }\n",
       "</style>\n",
       "<table border=\"1\" class=\"dataframe\">\n",
       "  <thead>\n",
       "    <tr style=\"text-align: right;\">\n",
       "      <th></th>\n",
       "      <th>Index</th>\n",
       "      <th>Name</th>\n",
       "      <th>URL</th>\n",
       "      <th>block</th>\n",
       "      <th>geometry</th>\n",
       "    </tr>\n",
       "  </thead>\n",
       "  <tbody>\n",
       "    <tr>\n",
       "      <th>0</th>\n",
       "      <td>21687</td>\n",
       "      <td>Block_101/20140316_529000e_4339000n.laz</td>\n",
       "      <td>ftp://coast.noaa.gov/pub/DigitalCoast/lidar1_z...</td>\n",
       "      <td>Block_101</td>\n",
       "      <td>POLYGON ((-74.66417 39.19525, -74.66417 39.199...</td>\n",
       "    </tr>\n",
       "    <tr>\n",
       "      <th>1</th>\n",
       "      <td>21688</td>\n",
       "      <td>Block_101/20140316_529000e_4338500n.laz</td>\n",
       "      <td>ftp://coast.noaa.gov/pub/DigitalCoast/lidar1_z...</td>\n",
       "      <td>Block_101</td>\n",
       "      <td>POLYGON ((-74.66419 39.19075, -74.66419 39.195...</td>\n",
       "    </tr>\n",
       "    <tr>\n",
       "      <th>2</th>\n",
       "      <td>21689</td>\n",
       "      <td>Block_101/20140316_529000e_4336000n.laz</td>\n",
       "      <td>ftp://coast.noaa.gov/pub/DigitalCoast/lidar1_z...</td>\n",
       "      <td>Block_101</td>\n",
       "      <td>POLYGON ((-74.66429 39.16932, -74.66429 39.172...</td>\n",
       "    </tr>\n",
       "    <tr>\n",
       "      <th>3</th>\n",
       "      <td>21690</td>\n",
       "      <td>Block_101/20140316_528500e_4340500n.laz</td>\n",
       "      <td>ftp://coast.noaa.gov/pub/DigitalCoast/lidar1_z...</td>\n",
       "      <td>Block_101</td>\n",
       "      <td>POLYGON ((-74.66990 39.20879, -74.66990 39.213...</td>\n",
       "    </tr>\n",
       "    <tr>\n",
       "      <th>4</th>\n",
       "      <td>21691</td>\n",
       "      <td>Block_101/20140316_528500e_4340000n.laz</td>\n",
       "      <td>ftp://coast.noaa.gov/pub/DigitalCoast/lidar1_z...</td>\n",
       "      <td>Block_101</td>\n",
       "      <td>POLYGON ((-74.66992 39.20428, -74.66992 39.208...</td>\n",
       "    </tr>\n",
       "    <tr>\n",
       "      <th>...</th>\n",
       "      <td>...</td>\n",
       "      <td>...</td>\n",
       "      <td>...</td>\n",
       "      <td>...</td>\n",
       "      <td>...</td>\n",
       "    </tr>\n",
       "    <tr>\n",
       "      <th>12150</th>\n",
       "      <td>39685</td>\n",
       "      <td>Block_091/20131202_473000e_4352500n.laz</td>\n",
       "      <td>ftp://coast.noaa.gov/pub/DigitalCoast/lidar1_z...</td>\n",
       "      <td>Block_091</td>\n",
       "      <td>POLYGON ((-75.31323 39.31698, -75.31323 39.321...</td>\n",
       "    </tr>\n",
       "    <tr>\n",
       "      <th>12151</th>\n",
       "      <td>39686</td>\n",
       "      <td>Block_091/20131202_473000e_4352000n.laz</td>\n",
       "      <td>ftp://coast.noaa.gov/pub/DigitalCoast/lidar1_z...</td>\n",
       "      <td>Block_091</td>\n",
       "      <td>POLYGON ((-75.31321 39.31248, -75.31321 39.317...</td>\n",
       "    </tr>\n",
       "    <tr>\n",
       "      <th>12152</th>\n",
       "      <td>39687</td>\n",
       "      <td>Block_091/20131202_473000e_4351500n.laz</td>\n",
       "      <td>ftp://coast.noaa.gov/pub/DigitalCoast/lidar1_z...</td>\n",
       "      <td>Block_091</td>\n",
       "      <td>POLYGON ((-75.31319 39.30797, -75.31319 39.312...</td>\n",
       "    </tr>\n",
       "    <tr>\n",
       "      <th>12153</th>\n",
       "      <td>39688</td>\n",
       "      <td>Block_091/20131202_473000e_4351000n.laz</td>\n",
       "      <td>ftp://coast.noaa.gov/pub/DigitalCoast/lidar1_z...</td>\n",
       "      <td>Block_091</td>\n",
       "      <td>POLYGON ((-75.31317 39.30346, -75.31317 39.307...</td>\n",
       "    </tr>\n",
       "    <tr>\n",
       "      <th>12154</th>\n",
       "      <td>39689</td>\n",
       "      <td>Block_091/20131202_473000e_4350500n.laz</td>\n",
       "      <td>ftp://coast.noaa.gov/pub/DigitalCoast/lidar1_z...</td>\n",
       "      <td>Block_091</td>\n",
       "      <td>POLYGON ((-75.31315 39.29896, -75.31315 39.303...</td>\n",
       "    </tr>\n",
       "  </tbody>\n",
       "</table>\n",
       "<p>12155 rows × 5 columns</p>\n",
       "</div>"
      ],
      "text/plain": [
       "       Index                                     Name  \\\n",
       "0      21687  Block_101/20140316_529000e_4339000n.laz   \n",
       "1      21688  Block_101/20140316_529000e_4338500n.laz   \n",
       "2      21689  Block_101/20140316_529000e_4336000n.laz   \n",
       "3      21690  Block_101/20140316_528500e_4340500n.laz   \n",
       "4      21691  Block_101/20140316_528500e_4340000n.laz   \n",
       "...      ...                                      ...   \n",
       "12150  39685  Block_091/20131202_473000e_4352500n.laz   \n",
       "12151  39686  Block_091/20131202_473000e_4352000n.laz   \n",
       "12152  39687  Block_091/20131202_473000e_4351500n.laz   \n",
       "12153  39688  Block_091/20131202_473000e_4351000n.laz   \n",
       "12154  39689  Block_091/20131202_473000e_4350500n.laz   \n",
       "\n",
       "                                                     URL      block  \\\n",
       "0      ftp://coast.noaa.gov/pub/DigitalCoast/lidar1_z...  Block_101   \n",
       "1      ftp://coast.noaa.gov/pub/DigitalCoast/lidar1_z...  Block_101   \n",
       "2      ftp://coast.noaa.gov/pub/DigitalCoast/lidar1_z...  Block_101   \n",
       "3      ftp://coast.noaa.gov/pub/DigitalCoast/lidar1_z...  Block_101   \n",
       "4      ftp://coast.noaa.gov/pub/DigitalCoast/lidar1_z...  Block_101   \n",
       "...                                                  ...        ...   \n",
       "12150  ftp://coast.noaa.gov/pub/DigitalCoast/lidar1_z...  Block_091   \n",
       "12151  ftp://coast.noaa.gov/pub/DigitalCoast/lidar1_z...  Block_091   \n",
       "12152  ftp://coast.noaa.gov/pub/DigitalCoast/lidar1_z...  Block_091   \n",
       "12153  ftp://coast.noaa.gov/pub/DigitalCoast/lidar1_z...  Block_091   \n",
       "12154  ftp://coast.noaa.gov/pub/DigitalCoast/lidar1_z...  Block_091   \n",
       "\n",
       "                                                geometry  \n",
       "0      POLYGON ((-74.66417 39.19525, -74.66417 39.199...  \n",
       "1      POLYGON ((-74.66419 39.19075, -74.66419 39.195...  \n",
       "2      POLYGON ((-74.66429 39.16932, -74.66429 39.172...  \n",
       "3      POLYGON ((-74.66990 39.20879, -74.66990 39.213...  \n",
       "4      POLYGON ((-74.66992 39.20428, -74.66992 39.208...  \n",
       "...                                                  ...  \n",
       "12150  POLYGON ((-75.31323 39.31698, -75.31323 39.321...  \n",
       "12151  POLYGON ((-75.31321 39.31248, -75.31321 39.317...  \n",
       "12152  POLYGON ((-75.31319 39.30797, -75.31319 39.312...  \n",
       "12153  POLYGON ((-75.31317 39.30346, -75.31317 39.307...  \n",
       "12154  POLYGON ((-75.31315 39.29896, -75.31315 39.303...  \n",
       "\n",
       "[12155 rows x 5 columns]"
      ]
     },
     "execution_count": 28,
     "metadata": {},
     "output_type": "execute_result"
    }
   ],
   "source": [
    "pc_tiles = gpd.read_file(\"Coastal_NJ/2014_NGS_postSandy_topobathy_njtiles_index.shp\")\n",
    "pc_tiles"
   ]
  },
  {
   "cell_type": "code",
   "execution_count": 31,
   "id": "e3f5d49d",
   "metadata": {},
   "outputs": [],
   "source": [
    "pc_tiles = pc_tiles.to_crs(epsg=\"32618\")"
   ]
  },
  {
   "cell_type": "code",
   "execution_count": 33,
   "id": "3fbd121e",
   "metadata": {},
   "outputs": [
    {
     "data": {
      "text/html": [
       "<div>\n",
       "<style scoped>\n",
       "    .dataframe tbody tr th:only-of-type {\n",
       "        vertical-align: middle;\n",
       "    }\n",
       "\n",
       "    .dataframe tbody tr th {\n",
       "        vertical-align: top;\n",
       "    }\n",
       "\n",
       "    .dataframe thead th {\n",
       "        text-align: right;\n",
       "    }\n",
       "</style>\n",
       "<table border=\"1\" class=\"dataframe\">\n",
       "  <thead>\n",
       "    <tr style=\"text-align: right;\">\n",
       "      <th></th>\n",
       "      <th>Index</th>\n",
       "      <th>Name</th>\n",
       "      <th>URL</th>\n",
       "      <th>block</th>\n",
       "      <th>geometry</th>\n",
       "    </tr>\n",
       "  </thead>\n",
       "  <tbody>\n",
       "    <tr>\n",
       "      <th>0</th>\n",
       "      <td>21687</td>\n",
       "      <td>Block_101/20140316_529000e_4339000n.laz</td>\n",
       "      <td>ftp://coast.noaa.gov/pub/DigitalCoast/lidar1_z...</td>\n",
       "      <td>Block_101</td>\n",
       "      <td>POLYGON ((529000.049 4338498.137, 528998.190 4...</td>\n",
       "    </tr>\n",
       "    <tr>\n",
       "      <th>1</th>\n",
       "      <td>21688</td>\n",
       "      <td>Block_101/20140316_529000e_4338500n.laz</td>\n",
       "      <td>ftp://coast.noaa.gov/pub/DigitalCoast/lidar1_z...</td>\n",
       "      <td>Block_101</td>\n",
       "      <td>POLYGON ((529000.044 4337998.121, 528998.186 4...</td>\n",
       "    </tr>\n",
       "    <tr>\n",
       "      <th>2</th>\n",
       "      <td>21689</td>\n",
       "      <td>Block_101/20140316_529000e_4336000n.laz</td>\n",
       "      <td>ftp://coast.noaa.gov/pub/DigitalCoast/lidar1_z...</td>\n",
       "      <td>Block_101</td>\n",
       "      <td>POLYGON ((529000.080 4335620.374, 528998.675 4...</td>\n",
       "    </tr>\n",
       "    <tr>\n",
       "      <th>3</th>\n",
       "      <td>21690</td>\n",
       "      <td>Block_101/20140316_528500e_4340500n.laz</td>\n",
       "      <td>ftp://coast.noaa.gov/pub/DigitalCoast/lidar1_z...</td>\n",
       "      <td>Block_101</td>\n",
       "      <td>POLYGON ((528500.068 4339998.161, 528498.240 4...</td>\n",
       "    </tr>\n",
       "    <tr>\n",
       "      <th>4</th>\n",
       "      <td>21691</td>\n",
       "      <td>Block_101/20140316_528500e_4340000n.laz</td>\n",
       "      <td>ftp://coast.noaa.gov/pub/DigitalCoast/lidar1_z...</td>\n",
       "      <td>Block_101</td>\n",
       "      <td>POLYGON ((528500.024 4339498.155, 528498.196 4...</td>\n",
       "    </tr>\n",
       "  </tbody>\n",
       "</table>\n",
       "</div>"
      ],
      "text/plain": [
       "   Index                                     Name  \\\n",
       "0  21687  Block_101/20140316_529000e_4339000n.laz   \n",
       "1  21688  Block_101/20140316_529000e_4338500n.laz   \n",
       "2  21689  Block_101/20140316_529000e_4336000n.laz   \n",
       "3  21690  Block_101/20140316_528500e_4340500n.laz   \n",
       "4  21691  Block_101/20140316_528500e_4340000n.laz   \n",
       "\n",
       "                                                 URL      block  \\\n",
       "0  ftp://coast.noaa.gov/pub/DigitalCoast/lidar1_z...  Block_101   \n",
       "1  ftp://coast.noaa.gov/pub/DigitalCoast/lidar1_z...  Block_101   \n",
       "2  ftp://coast.noaa.gov/pub/DigitalCoast/lidar1_z...  Block_101   \n",
       "3  ftp://coast.noaa.gov/pub/DigitalCoast/lidar1_z...  Block_101   \n",
       "4  ftp://coast.noaa.gov/pub/DigitalCoast/lidar1_z...  Block_101   \n",
       "\n",
       "                                            geometry  \n",
       "0  POLYGON ((529000.049 4338498.137, 528998.190 4...  \n",
       "1  POLYGON ((529000.044 4337998.121, 528998.186 4...  \n",
       "2  POLYGON ((529000.080 4335620.374, 528998.675 4...  \n",
       "3  POLYGON ((528500.068 4339998.161, 528498.240 4...  \n",
       "4  POLYGON ((528500.024 4339498.155, 528498.196 4...  "
      ]
     },
     "execution_count": 33,
     "metadata": {},
     "output_type": "execute_result"
    }
   ],
   "source": [
    "pc_tiles.head()"
   ]
  },
  {
   "cell_type": "code",
   "execution_count": 6,
   "id": "4f605f90",
   "metadata": {},
   "outputs": [],
   "source": [
    "pc = laspy.read(\"SandyNE_NJ_tileGrid/tr_0618p1_split.las\")\n",
    "header = pc.header\n",
    "extent = [*header.min, *header.max]"
   ]
  },
  {
   "cell_type": "code",
   "execution_count": 73,
   "id": "b265e7d2",
   "metadata": {},
   "outputs": [],
   "source": [
    "x_min = extent[0]\n",
    "x_max = extent[3]\n",
    "y_min = extent[1]\n",
    "y_max = extent[4]\n",
    "\n",
    "pc_envelope = Polygon([[x_min, y_min], [x_max, y_min], [x_max, y_max], [x_min, y_max]])\n",
    "df_envelope = gpd.GeoDataFrame(index=[0], crs=pc_tiles.crs, geometry=[pc_envelope])"
   ]
  },
  {
   "cell_type": "code",
   "execution_count": 38,
   "id": "5f19ae34",
   "metadata": {},
   "outputs": [
    {
     "data": {
      "text/html": [
       "<div>\n",
       "<style scoped>\n",
       "    .dataframe tbody tr th:only-of-type {\n",
       "        vertical-align: middle;\n",
       "    }\n",
       "\n",
       "    .dataframe tbody tr th {\n",
       "        vertical-align: top;\n",
       "    }\n",
       "\n",
       "    .dataframe thead th {\n",
       "        text-align: right;\n",
       "    }\n",
       "</style>\n",
       "<table border=\"1\" class=\"dataframe\">\n",
       "  <thead>\n",
       "    <tr style=\"text-align: right;\">\n",
       "      <th></th>\n",
       "      <th>geometry</th>\n",
       "      <th>index_right</th>\n",
       "      <th>Index</th>\n",
       "      <th>Name</th>\n",
       "      <th>URL</th>\n",
       "      <th>block</th>\n",
       "    </tr>\n",
       "  </thead>\n",
       "  <tbody>\n",
       "    <tr>\n",
       "      <th>0</th>\n",
       "      <td>POLYGON ((579050.000 4436590.000, 579270.000 4...</td>\n",
       "      <td>5103</td>\n",
       "      <td>29664</td>\n",
       "      <td>Block_112/20121214_579000e_4437000n.laz</td>\n",
       "      <td>ftp://coast.noaa.gov/pub/DigitalCoast/lidar1_z...</td>\n",
       "      <td>Block_112</td>\n",
       "    </tr>\n",
       "  </tbody>\n",
       "</table>\n",
       "</div>"
      ],
      "text/plain": [
       "                                            geometry  index_right  Index  \\\n",
       "0  POLYGON ((579050.000 4436590.000, 579270.000 4...         5103  29664   \n",
       "\n",
       "                                      Name  \\\n",
       "0  Block_112/20121214_579000e_4437000n.laz   \n",
       "\n",
       "                                                 URL      block  \n",
       "0  ftp://coast.noaa.gov/pub/DigitalCoast/lidar1_z...  Block_112  "
      ]
     },
     "execution_count": 38,
     "metadata": {},
     "output_type": "execute_result"
    }
   ],
   "source": [
    "gpd.sjoin(df_envelope, pc_tiles.to_crs(epsg=\"32618\"), how='inner')"
   ]
  },
  {
   "cell_type": "code",
   "execution_count": 39,
   "id": "dc860d64",
   "metadata": {},
   "outputs": [
    {
     "data": {
      "text/html": [
       "<div>\n",
       "<style scoped>\n",
       "    .dataframe tbody tr th:only-of-type {\n",
       "        vertical-align: middle;\n",
       "    }\n",
       "\n",
       "    .dataframe tbody tr th {\n",
       "        vertical-align: top;\n",
       "    }\n",
       "\n",
       "    .dataframe thead th {\n",
       "        text-align: right;\n",
       "    }\n",
       "</style>\n",
       "<table border=\"1\" class=\"dataframe\">\n",
       "  <thead>\n",
       "    <tr style=\"text-align: right;\">\n",
       "      <th></th>\n",
       "      <th>Index</th>\n",
       "      <th>Name</th>\n",
       "      <th>URL</th>\n",
       "      <th>block</th>\n",
       "      <th>geometry</th>\n",
       "      <th>index_right</th>\n",
       "    </tr>\n",
       "  </thead>\n",
       "  <tbody>\n",
       "    <tr>\n",
       "      <th>5103</th>\n",
       "      <td>29664</td>\n",
       "      <td>Block_112/20121214_579000e_4437000n.laz</td>\n",
       "      <td>ftp://coast.noaa.gov/pub/DigitalCoast/lidar1_z...</td>\n",
       "      <td>Block_112</td>\n",
       "      <td>POLYGON ((579000.095 4436494.780, 578994.836 4...</td>\n",
       "      <td>0</td>\n",
       "    </tr>\n",
       "  </tbody>\n",
       "</table>\n",
       "</div>"
      ],
      "text/plain": [
       "      Index                                     Name  \\\n",
       "5103  29664  Block_112/20121214_579000e_4437000n.laz   \n",
       "\n",
       "                                                    URL      block  \\\n",
       "5103  ftp://coast.noaa.gov/pub/DigitalCoast/lidar1_z...  Block_112   \n",
       "\n",
       "                                               geometry  index_right  \n",
       "5103  POLYGON ((579000.095 4436494.780, 578994.836 4...            0  "
      ]
     },
     "execution_count": 39,
     "metadata": {},
     "output_type": "execute_result"
    }
   ],
   "source": [
    "gpd.sjoin(pc_tiles.to_crs(epsg=\"32618\"), df_envelope, how='inner')"
   ]
  },
  {
   "cell_type": "markdown",
   "id": "bdf74901",
   "metadata": {},
   "source": [
    "# Ground Control"
   ]
  },
  {
   "cell_type": "code",
   "execution_count": 51,
   "id": "3686589d",
   "metadata": {},
   "outputs": [],
   "source": [
    "file = open(\"0618-P1-NJSPSF.txt\", 'r')\n",
    "path = file.readlines()\n",
    "file.close()\n",
    "\n",
    "head = path[31].strip().replace(\"(\", \"\").replace(\")\", \"\").split(\",\")\n",
    "data  = path[33:]"
   ]
  },
  {
   "cell_type": "code",
   "execution_count": 52,
   "id": "dfda2daf",
   "metadata": {},
   "outputs": [
    {
     "data": {
      "text/plain": [
       "['time in Sec',\n",
       " ' distance in Meters',\n",
       " ' position in US Survey Feet',\n",
       " ' lat',\n",
       " ' long in Degrees',\n",
       " ' orientation angles and SD in Degrees',\n",
       " ' velocity in Meter/Sec',\n",
       " ' position SD in Meters']"
      ]
     },
     "execution_count": 52,
     "metadata": {},
     "output_type": "execute_result"
    }
   ],
   "source": [
    "head"
   ]
  },
  {
   "cell_type": "code",
   "execution_count": 63,
   "id": "afdc7daf",
   "metadata": {},
   "outputs": [
    {
     "data": {
      "text/plain": [
       "(500576, 5)"
      ]
     },
     "execution_count": 63,
     "metadata": {},
     "output_type": "execute_result"
    }
   ],
   "source": [
    "trajectory = np.array([line.strip().split()[:5] for line in data])\n",
    "trajectory.shape"
   ]
  },
  {
   "cell_type": "code",
   "execution_count": 69,
   "id": "251e2f9e",
   "metadata": {},
   "outputs": [],
   "source": [
    "sample_size = 500\n",
    "\n",
    "step = int(trajectory.shape[0] / sample_size)\n",
    "downsample_ix = np.arange(0, trajectory.shape[0], step)"
   ]
  },
  {
   "cell_type": "code",
   "execution_count": 70,
   "id": "36b805bd",
   "metadata": {},
   "outputs": [
    {
     "data": {
      "text/plain": [
       "array([['483583.06453', '0.000', '612017.243', '453188.735', '21.940'],\n",
       "       ['483588.06955', '0.000', '612017.243', '453188.735', '21.940'],\n",
       "       ['483593.07457', '0.000', '612017.243', '453188.735', '21.940'],\n",
       "       ...,\n",
       "       ['486075.56695', '9466.892', '613926.119', '446555.107', '11.393'],\n",
       "       ['486080.57197', '9466.892', '613926.119', '446555.107', '11.393'],\n",
       "       ['486085.57700', '9466.892', '613926.119', '446555.107', '11.393']],\n",
       "      dtype='<U12')"
      ]
     },
     "execution_count": 70,
     "metadata": {},
     "output_type": "execute_result"
    }
   ],
   "source": [
    "trajectory[downsample_ix]"
   ]
  }
 ],
 "metadata": {
  "kernelspec": {
   "display_name": "Python 3",
   "language": "python",
   "name": "python3"
  },
  "language_info": {
   "codemirror_mode": {
    "name": "ipython",
    "version": 3
   },
   "file_extension": ".py",
   "mimetype": "text/x-python",
   "name": "python",
   "nbconvert_exporter": "python",
   "pygments_lexer": "ipython3",
   "version": "3.9.2"
  }
 },
 "nbformat": 4,
 "nbformat_minor": 5
}
