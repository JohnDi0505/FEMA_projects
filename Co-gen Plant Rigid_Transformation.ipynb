{
 "cells": [
  {
   "cell_type": "code",
   "execution_count": 1,
   "metadata": {},
   "outputs": [],
   "source": [
    "import numpy as np\n",
    "import pandas as pd"
   ]
  },
  {
   "cell_type": "code",
   "execution_count": 2,
   "metadata": {},
   "outputs": [],
   "source": [
    "def rigid_transform_3D(A, B):\n",
    "    assert A.shape == B.shape\n",
    "\n",
    "    num_rows, num_cols = A.shape\n",
    "    if num_rows != 3:\n",
    "        raise Exception(f\"matrix A is not 3xN, it is {num_rows}x{num_cols}\")\n",
    "\n",
    "    num_rows, num_cols = B.shape\n",
    "    if num_rows != 3:\n",
    "        raise Exception(f\"matrix B is not 3xN, it is {num_rows}x{num_cols}\")\n",
    "\n",
    "    # find mean column wise\n",
    "    centroid_A = np.mean(A, axis=1)\n",
    "    centroid_B = np.mean(B, axis=1)\n",
    "\n",
    "    # ensure centroids are 3x1\n",
    "    centroid_A = centroid_A.reshape(-1, 1)\n",
    "    centroid_B = centroid_B.reshape(-1, 1)\n",
    "\n",
    "    # subtract mean\n",
    "    Am = A - centroid_A\n",
    "    Bm = B - centroid_B\n",
    "\n",
    "    H = Am @ np.transpose(Bm)\n",
    "\n",
    "    # sanity check\n",
    "    #if linalg.matrix_rank(H) < 3:\n",
    "    #    raise ValueError(\"rank of H = {}, expecting 3\".format(linalg.matrix_rank(H)))\n",
    "\n",
    "    # find rotation\n",
    "    U, S, Vt = np.linalg.svd(H)\n",
    "    R = Vt.T @ U.T\n",
    "\n",
    "    # special reflection case\n",
    "    if np.linalg.det(R) < 0:\n",
    "        print(\"det(R) < R, reflection detected!, correcting for it ...\")\n",
    "        Vt[2,:] *= -1\n",
    "        R = Vt.T @ U.T\n",
    "\n",
    "    t = -R @ centroid_A + centroid_B\n",
    "\n",
    "    return R, t"
   ]
  },
  {
   "cell_type": "code",
   "execution_count": 7,
   "metadata": {},
   "outputs": [],
   "source": [
    "gcp_scanner_df = pd.read_csv(\"control_pts_scanner.csv\", sep=\" \")\n",
    "gcp_gps_df = pd.read_csv(\"control_pts_gps.csv\", sep=\" \")"
   ]
  },
  {
   "cell_type": "code",
   "execution_count": 8,
   "metadata": {},
   "outputs": [
    {
     "data": {
      "text/html": [
       "<div>\n",
       "<style scoped>\n",
       "    .dataframe tbody tr th:only-of-type {\n",
       "        vertical-align: middle;\n",
       "    }\n",
       "\n",
       "    .dataframe tbody tr th {\n",
       "        vertical-align: top;\n",
       "    }\n",
       "\n",
       "    .dataframe thead th {\n",
       "        text-align: right;\n",
       "    }\n",
       "</style>\n",
       "<table border=\"1\" class=\"dataframe\">\n",
       "  <thead>\n",
       "    <tr style=\"text-align: right;\">\n",
       "      <th></th>\n",
       "      <th>x</th>\n",
       "      <th>y</th>\n",
       "      <th>z</th>\n",
       "    </tr>\n",
       "  </thead>\n",
       "  <tbody>\n",
       "    <tr>\n",
       "      <th>0</th>\n",
       "      <td>502615.837416</td>\n",
       "      <td>616392.151322</td>\n",
       "      <td>89.587705</td>\n",
       "    </tr>\n",
       "    <tr>\n",
       "      <th>1</th>\n",
       "      <td>502616.256385</td>\n",
       "      <td>616469.262778</td>\n",
       "      <td>89.794408</td>\n",
       "    </tr>\n",
       "    <tr>\n",
       "      <th>2</th>\n",
       "      <td>502594.379667</td>\n",
       "      <td>616558.695956</td>\n",
       "      <td>89.171018</td>\n",
       "    </tr>\n",
       "    <tr>\n",
       "      <th>3</th>\n",
       "      <td>502524.669785</td>\n",
       "      <td>616587.489906</td>\n",
       "      <td>89.505680</td>\n",
       "    </tr>\n",
       "    <tr>\n",
       "      <th>4</th>\n",
       "      <td>502427.991902</td>\n",
       "      <td>616491.050144</td>\n",
       "      <td>91.123213</td>\n",
       "    </tr>\n",
       "    <tr>\n",
       "      <th>5</th>\n",
       "      <td>502381.602143</td>\n",
       "      <td>616512.968785</td>\n",
       "      <td>91.362726</td>\n",
       "    </tr>\n",
       "    <tr>\n",
       "      <th>6</th>\n",
       "      <td>502328.829466</td>\n",
       "      <td>616390.248678</td>\n",
       "      <td>91.884405</td>\n",
       "    </tr>\n",
       "    <tr>\n",
       "      <th>7</th>\n",
       "      <td>502372.644143</td>\n",
       "      <td>616373.135921</td>\n",
       "      <td>91.766289</td>\n",
       "    </tr>\n",
       "    <tr>\n",
       "      <th>8</th>\n",
       "      <td>502425.905650</td>\n",
       "      <td>616352.458757</td>\n",
       "      <td>91.566148</td>\n",
       "    </tr>\n",
       "    <tr>\n",
       "      <th>9</th>\n",
       "      <td>502481.402060</td>\n",
       "      <td>616330.819260</td>\n",
       "      <td>91.841752</td>\n",
       "    </tr>\n",
       "  </tbody>\n",
       "</table>\n",
       "</div>"
      ],
      "text/plain": [
       "               x              y          z\n",
       "0  502615.837416  616392.151322  89.587705\n",
       "1  502616.256385  616469.262778  89.794408\n",
       "2  502594.379667  616558.695956  89.171018\n",
       "3  502524.669785  616587.489906  89.505680\n",
       "4  502427.991902  616491.050144  91.123213\n",
       "5  502381.602143  616512.968785  91.362726\n",
       "6  502328.829466  616390.248678  91.884405\n",
       "7  502372.644143  616373.135921  91.766289\n",
       "8  502425.905650  616352.458757  91.566148\n",
       "9  502481.402060  616330.819260  91.841752"
      ]
     },
     "execution_count": 8,
     "metadata": {},
     "output_type": "execute_result"
    }
   ],
   "source": [
    "gcp_gps_df"
   ]
  },
  {
   "cell_type": "code",
   "execution_count": 9,
   "metadata": {},
   "outputs": [
    {
     "data": {
      "text/html": [
       "<div>\n",
       "<style scoped>\n",
       "    .dataframe tbody tr th:only-of-type {\n",
       "        vertical-align: middle;\n",
       "    }\n",
       "\n",
       "    .dataframe tbody tr th {\n",
       "        vertical-align: top;\n",
       "    }\n",
       "\n",
       "    .dataframe thead th {\n",
       "        text-align: right;\n",
       "    }\n",
       "</style>\n",
       "<table border=\"1\" class=\"dataframe\">\n",
       "  <thead>\n",
       "    <tr style=\"text-align: right;\">\n",
       "      <th></th>\n",
       "      <th>x</th>\n",
       "      <th>y</th>\n",
       "      <th>z</th>\n",
       "    </tr>\n",
       "  </thead>\n",
       "  <tbody>\n",
       "    <tr>\n",
       "      <th>0</th>\n",
       "      <td>47.555287</td>\n",
       "      <td>-63.115917</td>\n",
       "      <td>111.269227</td>\n",
       "    </tr>\n",
       "    <tr>\n",
       "      <th>1</th>\n",
       "      <td>82.307232</td>\n",
       "      <td>5.700785</td>\n",
       "      <td>111.502192</td>\n",
       "    </tr>\n",
       "    <tr>\n",
       "      <th>2</th>\n",
       "      <td>102.612568</td>\n",
       "      <td>95.612989</td>\n",
       "      <td>110.734131</td>\n",
       "    </tr>\n",
       "    <tr>\n",
       "      <th>3</th>\n",
       "      <td>52.715164</td>\n",
       "      <td>152.089213</td>\n",
       "      <td>111.056402</td>\n",
       "    </tr>\n",
       "    <tr>\n",
       "      <th>4</th>\n",
       "      <td>-76.758738</td>\n",
       "      <td>108.568019</td>\n",
       "      <td>111.058551</td>\n",
       "    </tr>\n",
       "    <tr>\n",
       "      <th>5</th>\n",
       "      <td>-108.618449</td>\n",
       "      <td>148.824252</td>\n",
       "      <td>111.301430</td>\n",
       "    </tr>\n",
       "    <tr>\n",
       "      <th>6</th>\n",
       "      <td>-210.196179</td>\n",
       "      <td>61.455641</td>\n",
       "      <td>111.947384</td>\n",
       "    </tr>\n",
       "    <tr>\n",
       "      <th>7</th>\n",
       "      <td>-178.410512</td>\n",
       "      <td>26.841211</td>\n",
       "      <td>111.814020</td>\n",
       "    </tr>\n",
       "    <tr>\n",
       "      <th>8</th>\n",
       "      <td>-139.726660</td>\n",
       "      <td>-15.255742</td>\n",
       "      <td>111.581420</td>\n",
       "    </tr>\n",
       "    <tr>\n",
       "      <th>9</th>\n",
       "      <td>-99.436486</td>\n",
       "      <td>-59.155298</td>\n",
       "      <td>111.694845</td>\n",
       "    </tr>\n",
       "  </tbody>\n",
       "</table>\n",
       "</div>"
      ],
      "text/plain": [
       "            x           y           z\n",
       "0   47.555287  -63.115917  111.269227\n",
       "1   82.307232    5.700785  111.502192\n",
       "2  102.612568   95.612989  110.734131\n",
       "3   52.715164  152.089213  111.056402\n",
       "4  -76.758738  108.568019  111.058551\n",
       "5 -108.618449  148.824252  111.301430\n",
       "6 -210.196179   61.455641  111.947384\n",
       "7 -178.410512   26.841211  111.814020\n",
       "8 -139.726660  -15.255742  111.581420\n",
       "9  -99.436486  -59.155298  111.694845"
      ]
     },
     "execution_count": 9,
     "metadata": {},
     "output_type": "execute_result"
    }
   ],
   "source": [
    "gcp_scanner_df"
   ]
  },
  {
   "cell_type": "code",
   "execution_count": 10,
   "metadata": {},
   "outputs": [],
   "source": [
    "A = np.array(gcp_scanner_df.loc[[0,4,8], :]).T\n",
    "B = np.array(gcp_gps_df.loc[[0,4,8], :]).T"
   ]
  },
  {
   "cell_type": "code",
   "execution_count": 11,
   "metadata": {},
   "outputs": [],
   "source": [
    "[ret_R, ret_t] = rigid_transform_3D(A, B)\n",
    "\n",
    "# Compare the recovered R and t with the original\n",
    "B2 = (ret_R@A) + ret_t\n",
    "\n",
    "n = A.shape[1]\n",
    "\n",
    "# Find the root mean squared error\n",
    "err = B2 - B\n",
    "err = err * err\n",
    "err = np.sum(err)\n",
    "rmse = np.sqrt(err/n)\n"
   ]
  },
  {
   "cell_type": "code",
   "execution_count": 12,
   "metadata": {},
   "outputs": [
    {
     "data": {
      "text/plain": [
       "0.3473114820088297"
      ]
     },
     "execution_count": 12,
     "metadata": {},
     "output_type": "execute_result"
    }
   ],
   "source": [
    "rmse"
   ]
  },
  {
   "cell_type": "code",
   "execution_count": 13,
   "metadata": {},
   "outputs": [
    {
     "data": {
      "text/plain": [
       "array([[ 8.97127978e-01, -4.41680723e-01,  8.91799159e-03],\n",
       "       [ 4.41703815e-01,  8.97160656e-01, -7.04494068e-04],\n",
       "       [-7.68970974e-03,  4.57113225e-03,  9.99959986e-01]])"
      ]
     },
     "execution_count": 13,
     "metadata": {},
     "output_type": "execute_result"
    }
   ],
   "source": [
    "ret_R"
   ]
  },
  {
   "cell_type": "code",
   "execution_count": 14,
   "metadata": {},
   "outputs": [],
   "source": [
    "from math import asin, atan2, cos\n",
    "\n",
    "theta1 = -asin(ret_R[2,0])\n",
    "theta2 = np.pi - theta1\n",
    "\n",
    "psi1 = atan2(ret_R[2,1] / cos(theta1), ret_R[2,2] / cos(theta1))\n",
    "psi2 = atan2(ret_R[2,1] / cos(theta2), ret_R[2,2] / cos(theta2))\n",
    "\n",
    "phi1 = atan2(ret_R[1,0] / cos(theta1), ret_R[0,0] / cos(theta1))\n",
    "phi2 = atan2(ret_R[1,0] / cos(theta2), ret_R[0,0] / cos(theta2))\n",
    "\n",
    "ret_Rotation_angle1 = 180 / np.pi * np.array([psi1, theta1, phi1])\n",
    "ret_Rotation_angle2 = 180 / np.pi * np.array([psi2, theta2, phi2])"
   ]
  },
  {
   "cell_type": "code",
   "execution_count": 15,
   "metadata": {},
   "outputs": [
    {
     "data": {
      "text/plain": [
       "array([[ 5.02543882e+05],\n",
       "       [ 6.16427807e+05],\n",
       "       [-2.10186087e+01]])"
      ]
     },
     "execution_count": 15,
     "metadata": {},
     "output_type": "execute_result"
    }
   ],
   "source": [
    "ret_t"
   ]
  },
  {
   "cell_type": "code",
   "execution_count": 16,
   "metadata": {},
   "outputs": [
    {
     "data": {
      "text/plain": [
       "array([ 0.26191524,  0.44059226, 26.21347592])"
      ]
     },
     "execution_count": 16,
     "metadata": {},
     "output_type": "execute_result"
    }
   ],
   "source": [
    "ret_Rotation_angle1"
   ]
  },
  {
   "cell_type": "code",
   "execution_count": 17,
   "metadata": {},
   "outputs": [
    {
     "data": {
      "text/plain": [
       "array([ 0.42285549,  0.04247589, -0.004263  ])"
      ]
     },
     "execution_count": 17,
     "metadata": {},
     "output_type": "execute_result"
    }
   ],
   "source": [
    "before = np.array([502615.83741648926, 616392.1513218867, 89.587705])\n",
    "after = np.array([502615.414561, 616392.108846, 89.591968])\n",
    "\n",
    "before - after"
   ]
  }
 ],
 "metadata": {
  "kernelspec": {
   "display_name": "Python 3 (ipykernel)",
   "language": "python",
   "name": "python3"
  },
  "language_info": {
   "codemirror_mode": {
    "name": "ipython",
    "version": 3
   },
   "file_extension": ".py",
   "mimetype": "text/x-python",
   "name": "python",
   "nbconvert_exporter": "python",
   "pygments_lexer": "ipython3",
   "version": "3.9.7"
  },
  "vscode": {
   "interpreter": {
    "hash": "fe7680097ed11e419fc493f75ffd5a62734e975a3af078fd5fb7528641492738"
   }
  }
 },
 "nbformat": 4,
 "nbformat_minor": 2
}
