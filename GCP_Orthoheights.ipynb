{
 "cells": [
  {
   "cell_type": "markdown",
   "id": "948f5fb5",
   "metadata": {},
   "source": [
    "# 0.pre-processing to batch download attachments from ArcGIS file geodatabase"
   ]
  },
  {
   "cell_type": "markdown",
   "id": "b88bf518",
   "metadata": {},
   "source": [
    "GCP data must be exported from ArcGIS Online to the format ArcGIS File Geodatabase. Run the following script inside ArcMap to parse attached images from binary to .jpg. \n",
    "\n",
    "Reference: https://support.esri.com/en/technical-article/000011912"
   ]
  },
  {
   "cell_type": "code",
   "execution_count": null,
   "id": "1ebb52ff",
   "metadata": {},
   "outputs": [],
   "source": [
    "import arcpy\n",
    "from arcpy import da\n",
    "import os\n",
    "\n",
    "inTable = arcpy.GetParameterAsText(0)\n",
    "fileLocation = arcpy.GetParameterAsText(1)\n",
    "\n",
    "with da.SearchCursor(inTable, ['DATA', 'ATT_NAME', 'ATTACHMENTID']) as cursor:\n",
    "    for item in cursor:\n",
    "        attachment = item[0]\n",
    "        filenum = \"ATT\" + str(item[2]) + \"_\"\n",
    "        filename = filenum + str(item[1])\n",
    "        open(fileLocation + os.sep + filename, 'wb').write(attachment.tobytes())\n",
    "        del item\n",
    "        del filenum\n",
    "        del filename\n",
    "        del attachment"
   ]
  },
  {
   "cell_type": "markdown",
   "id": "42f569ed",
   "metadata": {},
   "source": [
    "# 1.convert decimal degree to degree-minute-second"
   ]
  },
  {
   "cell_type": "code",
   "execution_count": 1,
   "id": "4e6f5345",
   "metadata": {},
   "outputs": [],
   "source": [
    "import csv\n",
    "import pyproj\n",
    "import numpy as np\n",
    "import pandas as pd\n",
    "import geopandas as gpd\n",
    "import datetime as dt"
   ]
  },
  {
   "cell_type": "code",
   "execution_count": 4,
   "id": "fd169c8d",
   "metadata": {},
   "outputs": [],
   "source": [
    "location_gcp_decimal = pd.read_csv(\"location_gcp__decimal.csv\")\n",
    "elevation_gcp_decimal = pd.read_csv(\"elevation_gcp__decimal.csv\")\n",
    "location_gcp_decimal.columns = ['lat', 'lon', 'elipsoidal_h', 'date', 'img_ix']\n",
    "elevation_gcp_decimal.columns = ['lat', 'lon', 'elipsoidal_h', 'date']"
   ]
  },
  {
   "cell_type": "code",
   "execution_count": 5,
   "id": "cc8792e1",
   "metadata": {},
   "outputs": [],
   "source": [
    "location_gcp_decimal[['lat_degree', 'lat_minute', 'lat_second', 'lon_degree', 'lon_minute', 'lon_second', 'ix']] = pd.DataFrame([[np.nan, np.nan, np.nan, np.nan, np.nan, np.nan, 'POINT_']], index=location_gcp_decimal.index)\n",
    "elevation_gcp_decimal[['lat_degree', 'lat_minute', 'lat_second', 'lon_degree', 'lon_minute', 'lon_second', 'ix']] = pd.DataFrame([[np.nan, np.nan, np.nan, np.nan, np.nan, np.nan, 'POINT_']], index=elevation_gcp_decimal.index)"
   ]
  },
  {
   "cell_type": "code",
   "execution_count": 6,
   "id": "4354c280",
   "metadata": {},
   "outputs": [
    {
     "data": {
      "text/html": [
       "<div>\n",
       "<style scoped>\n",
       "    .dataframe tbody tr th:only-of-type {\n",
       "        vertical-align: middle;\n",
       "    }\n",
       "\n",
       "    .dataframe tbody tr th {\n",
       "        vertical-align: top;\n",
       "    }\n",
       "\n",
       "    .dataframe thead th {\n",
       "        text-align: right;\n",
       "    }\n",
       "</style>\n",
       "<table border=\"1\" class=\"dataframe\">\n",
       "  <thead>\n",
       "    <tr style=\"text-align: right;\">\n",
       "      <th></th>\n",
       "      <th>lat</th>\n",
       "      <th>lon</th>\n",
       "      <th>elipsoidal_h</th>\n",
       "      <th>date</th>\n",
       "      <th>img_ix</th>\n",
       "      <th>lat_degree</th>\n",
       "      <th>lat_minute</th>\n",
       "      <th>lat_second</th>\n",
       "      <th>lon_degree</th>\n",
       "      <th>lon_minute</th>\n",
       "      <th>lon_second</th>\n",
       "      <th>ix</th>\n",
       "    </tr>\n",
       "  </thead>\n",
       "  <tbody>\n",
       "    <tr>\n",
       "      <th>0</th>\n",
       "      <td>40.472757</td>\n",
       "      <td>-74.339784</td>\n",
       "      <td>-26.638</td>\n",
       "      <td>2021-06-07</td>\n",
       "      <td>1</td>\n",
       "      <td>NaN</td>\n",
       "      <td>NaN</td>\n",
       "      <td>NaN</td>\n",
       "      <td>NaN</td>\n",
       "      <td>NaN</td>\n",
       "      <td>NaN</td>\n",
       "      <td>0_POINT</td>\n",
       "    </tr>\n",
       "    <tr>\n",
       "      <th>1</th>\n",
       "      <td>40.472669</td>\n",
       "      <td>-74.339782</td>\n",
       "      <td>-26.319</td>\n",
       "      <td>2021-06-07</td>\n",
       "      <td>2</td>\n",
       "      <td>NaN</td>\n",
       "      <td>NaN</td>\n",
       "      <td>NaN</td>\n",
       "      <td>NaN</td>\n",
       "      <td>NaN</td>\n",
       "      <td>NaN</td>\n",
       "      <td>1_POINT</td>\n",
       "    </tr>\n",
       "    <tr>\n",
       "      <th>2</th>\n",
       "      <td>40.472780</td>\n",
       "      <td>-74.339924</td>\n",
       "      <td>-26.892</td>\n",
       "      <td>2021-06-07</td>\n",
       "      <td>3</td>\n",
       "      <td>NaN</td>\n",
       "      <td>NaN</td>\n",
       "      <td>NaN</td>\n",
       "      <td>NaN</td>\n",
       "      <td>NaN</td>\n",
       "      <td>NaN</td>\n",
       "      <td>2_POINT</td>\n",
       "    </tr>\n",
       "    <tr>\n",
       "      <th>3</th>\n",
       "      <td>40.472836</td>\n",
       "      <td>-74.339937</td>\n",
       "      <td>-27.075</td>\n",
       "      <td>2021-06-07</td>\n",
       "      <td>4</td>\n",
       "      <td>NaN</td>\n",
       "      <td>NaN</td>\n",
       "      <td>NaN</td>\n",
       "      <td>NaN</td>\n",
       "      <td>NaN</td>\n",
       "      <td>NaN</td>\n",
       "      <td>3_POINT</td>\n",
       "    </tr>\n",
       "    <tr>\n",
       "      <th>4</th>\n",
       "      <td>40.473462</td>\n",
       "      <td>-74.339932</td>\n",
       "      <td>-28.139</td>\n",
       "      <td>2021-06-07</td>\n",
       "      <td>5</td>\n",
       "      <td>NaN</td>\n",
       "      <td>NaN</td>\n",
       "      <td>NaN</td>\n",
       "      <td>NaN</td>\n",
       "      <td>NaN</td>\n",
       "      <td>NaN</td>\n",
       "      <td>4_POINT</td>\n",
       "    </tr>\n",
       "    <tr>\n",
       "      <th>...</th>\n",
       "      <td>...</td>\n",
       "      <td>...</td>\n",
       "      <td>...</td>\n",
       "      <td>...</td>\n",
       "      <td>...</td>\n",
       "      <td>...</td>\n",
       "      <td>...</td>\n",
       "      <td>...</td>\n",
       "      <td>...</td>\n",
       "      <td>...</td>\n",
       "      <td>...</td>\n",
       "      <td>...</td>\n",
       "    </tr>\n",
       "    <tr>\n",
       "      <th>384</th>\n",
       "      <td>40.595668</td>\n",
       "      <td>-74.448605</td>\n",
       "      <td>-9.705</td>\n",
       "      <td>2021-06-18</td>\n",
       "      <td>433</td>\n",
       "      <td>NaN</td>\n",
       "      <td>NaN</td>\n",
       "      <td>NaN</td>\n",
       "      <td>NaN</td>\n",
       "      <td>NaN</td>\n",
       "      <td>NaN</td>\n",
       "      <td>384_POINT</td>\n",
       "    </tr>\n",
       "    <tr>\n",
       "      <th>385</th>\n",
       "      <td>40.597088</td>\n",
       "      <td>-74.460974</td>\n",
       "      <td>-13.980</td>\n",
       "      <td>2021-06-18</td>\n",
       "      <td>434</td>\n",
       "      <td>NaN</td>\n",
       "      <td>NaN</td>\n",
       "      <td>NaN</td>\n",
       "      <td>NaN</td>\n",
       "      <td>NaN</td>\n",
       "      <td>NaN</td>\n",
       "      <td>385_POINT</td>\n",
       "    </tr>\n",
       "    <tr>\n",
       "      <th>386</th>\n",
       "      <td>40.603906</td>\n",
       "      <td>-74.470785</td>\n",
       "      <td>-14.754</td>\n",
       "      <td>2021-06-18</td>\n",
       "      <td>435</td>\n",
       "      <td>NaN</td>\n",
       "      <td>NaN</td>\n",
       "      <td>NaN</td>\n",
       "      <td>NaN</td>\n",
       "      <td>NaN</td>\n",
       "      <td>NaN</td>\n",
       "      <td>386_POINT</td>\n",
       "    </tr>\n",
       "    <tr>\n",
       "      <th>387</th>\n",
       "      <td>40.603906</td>\n",
       "      <td>-74.470785</td>\n",
       "      <td>-14.754</td>\n",
       "      <td>2021-06-18</td>\n",
       "      <td>436</td>\n",
       "      <td>NaN</td>\n",
       "      <td>NaN</td>\n",
       "      <td>NaN</td>\n",
       "      <td>NaN</td>\n",
       "      <td>NaN</td>\n",
       "      <td>NaN</td>\n",
       "      <td>387_POINT</td>\n",
       "    </tr>\n",
       "    <tr>\n",
       "      <th>388</th>\n",
       "      <td>40.595112</td>\n",
       "      <td>-74.426277</td>\n",
       "      <td>-9.069</td>\n",
       "      <td>2021-06-18</td>\n",
       "      <td>437</td>\n",
       "      <td>NaN</td>\n",
       "      <td>NaN</td>\n",
       "      <td>NaN</td>\n",
       "      <td>NaN</td>\n",
       "      <td>NaN</td>\n",
       "      <td>NaN</td>\n",
       "      <td>388_POINT</td>\n",
       "    </tr>\n",
       "  </tbody>\n",
       "</table>\n",
       "<p>389 rows × 12 columns</p>\n",
       "</div>"
      ],
      "text/plain": [
       "           lat        lon  elipsoidal_h        date  img_ix  lat_degree  \\\n",
       "0    40.472757 -74.339784       -26.638  2021-06-07       1         NaN   \n",
       "1    40.472669 -74.339782       -26.319  2021-06-07       2         NaN   \n",
       "2    40.472780 -74.339924       -26.892  2021-06-07       3         NaN   \n",
       "3    40.472836 -74.339937       -27.075  2021-06-07       4         NaN   \n",
       "4    40.473462 -74.339932       -28.139  2021-06-07       5         NaN   \n",
       "..         ...        ...           ...         ...     ...         ...   \n",
       "384  40.595668 -74.448605        -9.705  2021-06-18     433         NaN   \n",
       "385  40.597088 -74.460974       -13.980  2021-06-18     434         NaN   \n",
       "386  40.603906 -74.470785       -14.754  2021-06-18     435         NaN   \n",
       "387  40.603906 -74.470785       -14.754  2021-06-18     436         NaN   \n",
       "388  40.595112 -74.426277        -9.069  2021-06-18     437         NaN   \n",
       "\n",
       "     lat_minute  lat_second  lon_degree  lon_minute  lon_second         ix  \n",
       "0           NaN         NaN         NaN         NaN         NaN    0_POINT  \n",
       "1           NaN         NaN         NaN         NaN         NaN    1_POINT  \n",
       "2           NaN         NaN         NaN         NaN         NaN    2_POINT  \n",
       "3           NaN         NaN         NaN         NaN         NaN    3_POINT  \n",
       "4           NaN         NaN         NaN         NaN         NaN    4_POINT  \n",
       "..          ...         ...         ...         ...         ...        ...  \n",
       "384         NaN         NaN         NaN         NaN         NaN  384_POINT  \n",
       "385         NaN         NaN         NaN         NaN         NaN  385_POINT  \n",
       "386         NaN         NaN         NaN         NaN         NaN  386_POINT  \n",
       "387         NaN         NaN         NaN         NaN         NaN  387_POINT  \n",
       "388         NaN         NaN         NaN         NaN         NaN  388_POINT  \n",
       "\n",
       "[389 rows x 12 columns]"
      ]
     },
     "execution_count": 6,
     "metadata": {},
     "output_type": "execute_result"
    }
   ],
   "source": [
    "location_gcp_decimal['ix'] = location_gcp_decimal.index\n",
    "location_gcp_decimal['ix'] = location_gcp_decimal['ix'].astype(str)\n",
    "location_gcp_decimal['ix'] = location_gcp_decimal['ix'] + '_POINT'\n",
    "\n",
    "elevation_gcp_decimal['ix'] = elevation_gcp_decimal.index\n",
    "elevation_gcp_decimal['ix'] = elevation_gcp_decimal['ix'].astype(str)\n",
    "elevation_gcp_decimal['ix'] = elevation_gcp_decimal['ix'] + '_POINT'\n",
    "\n",
    "location_gcp_decimal"
   ]
  },
  {
   "cell_type": "code",
   "execution_count": 9,
   "id": "a03bd317",
   "metadata": {},
   "outputs": [],
   "source": [
    "def decimal_to_dms(df):\n",
    "    \n",
    "    lat = df['lat'].abs()\n",
    "    lon = df['lon'].abs()\n",
    "    \n",
    "    degree_lat = lat.astype(int)\n",
    "    minute_lat = ((lat - degree_lat) * 60).astype(int)\n",
    "    second_lat = (((lat - degree_lat - minute_lat / 60)) * 3600).round(2)\n",
    "    \n",
    "    degree_lon = lon.astype(int)\n",
    "    minute_lon = ((lon - degree_lon) * 60).astype(int)\n",
    "    second_lon = (((lon - degree_lon - minute_lon / 60)) * 3600).round(2)\n",
    "    \n",
    "    df['lat_degree'] = degree_lat\n",
    "    df['lat_minute'] = minute_lat\n",
    "    df['lat_second'] = second_lat\n",
    "    \n",
    "    df['lon_degree'] = degree_lon\n",
    "    df['lon_minute'] = minute_lon\n",
    "    df['lon_second'] = second_lon\n",
    "    \n",
    "    temp = pd.concat([degree_lat, minute_lat, second_lat, degree_lon, minute_lon, second_lon, pd.Series(' ' * 8, index=df.index), df['ix']], axis=1)\n",
    "    temp.columns = ['lat_degree', 'lat_minute', 'lat_second', 'lon_degree', 'lon_minute', 'lon_second', 'spaces', 'ix']\n",
    "    return(temp)"
   ]
  },
  {
   "cell_type": "code",
   "execution_count": 10,
   "id": "5082b805",
   "metadata": {},
   "outputs": [],
   "source": [
    "location_for_geoid = decimal_to_dms(location_gcp_decimal)\n",
    "location_for_geoid.to_csv(\"location_for_geoid.csv\", sep=' ', index=False, header=False, quoting=csv.QUOTE_NONE, quotechar=\"\",  escapechar=\" \")\n",
    "\n",
    "elevation_for_geoid = decimal_to_dms(elevation_gcp_decimal)\n",
    "elevation_for_geoid.to_csv(\"elevation_for_geoid.csv\", sep=' ', index=False, header=False, quoting=csv.QUOTE_NONE, quotechar=\"\",  escapechar=\" \")"
   ]
  },
  {
   "cell_type": "markdown",
   "id": "aca5ce2b",
   "metadata": {},
   "source": [
    "# 2. batch to get undulation at\n",
    "\n",
    "https://geodesy.noaa.gov/GEOID/GEOID18/computation.html"
   ]
  },
  {
   "cell_type": "markdown",
   "id": "dbf619bf",
   "metadata": {},
   "source": [
    "# 3. compute orthoheight"
   ]
  },
  {
   "cell_type": "code",
   "execution_count": 12,
   "id": "16a7f967",
   "metadata": {},
   "outputs": [
    {
     "name": "stdout",
     "output_type": "stream",
     "text": [
      "389\n",
      "281\n"
     ]
    }
   ],
   "source": [
    "location_undulation = pd.read_csv(\"location_undulation.csv\", names=['lat_degree',\n",
    "                                                        'lat_minute',\n",
    "                                                        'lat_second',\n",
    "                                                        'lon_degree',\n",
    "                                                        'lon_minute',\n",
    "                                                        'lon_second',\n",
    "                                                        'geoid',\n",
    "                                                        'error',\n",
    "                                                        'ix'], delim_whitespace=True)\n",
    "\n",
    "elevation_undulation = pd.read_csv(\"elevation_undulation.csv\", names=['lat_degree',\n",
    "                                                        'lat_minute',\n",
    "                                                        'lat_second',\n",
    "                                                        'lon_degree',\n",
    "                                                        'lon_minute',\n",
    "                                                        'lon_second',\n",
    "                                                        'geoid',\n",
    "                                                        'error',\n",
    "                                                        'ix'], delim_whitespace=True)\n",
    "\n",
    "print(len(location_undulation))\n",
    "print(len(elevation_undulation))"
   ]
  },
  {
   "cell_type": "code",
   "execution_count": 18,
   "id": "08a1f34e",
   "metadata": {},
   "outputs": [
    {
     "name": "stdout",
     "output_type": "stream",
     "text": [
      "0\n"
     ]
    },
    {
     "name": "stderr",
     "output_type": "stream",
     "text": [
      "<ipython-input-18-d3d98752e5a5>:6: SettingWithCopyWarning: \n",
      "A value is trying to be set on a copy of a slice from a DataFrame.\n",
      "Try using .loc[row_indexer,col_indexer] = value instead\n",
      "\n",
      "See the caveats in the documentation: https://pandas.pydata.org/pandas-docs/stable/user_guide/indexing.html#returning-a-view-versus-a-copy\n",
      "  df_loc_temp['orthoheight'] = df_loc_temp['elipsoidal_h'] - df_loc_temp['geoid']\n"
     ]
    }
   ],
   "source": [
    "location_joined = location_gcp_decimal.merge(location_undulation, how=\"left\", on=\"ix\")\n",
    "\n",
    "print(location_joined['ix'].isnull().sum())\n",
    "\n",
    "df_loc_temp = location_joined[['lat','lon', 'date', 'img_ix', 'elipsoidal_h', 'geoid']]\n",
    "df_loc_temp['orthoheight'] = df_loc_temp['elipsoidal_h'] - df_loc_temp['geoid']\n",
    "df_loc = df_loc_temp[['lat','lon', 'orthoheight', 'img_ix', 'date']]\n",
    "\n",
    "\n",
    "location_orthoheight = gpd.GeoDataFrame(df_loc, geometry=gpd.points_from_xy(df_loc.lon, df_loc.lat))\n",
    "location_orthoheight = location_orthoheight.set_crs(epsg=4326)\n",
    "location_orthoheight = location_orthoheight.to_crs(\"EPSG:32618\")\n",
    "location_orthoheight['lat'] = location_orthoheight.geometry.y\n",
    "location_orthoheight['lon'] = location_orthoheight.geometry.x\n",
    "location_ortho_out = pd.DataFrame(location_orthoheight.drop(columns='geometry'))\n",
    "location_ortho_out.to_csv(\"location_orthoheight.csv\", sep='\\t', index=None)"
   ]
  },
  {
   "cell_type": "code",
   "execution_count": 19,
   "id": "dba412b3",
   "metadata": {},
   "outputs": [
    {
     "name": "stdout",
     "output_type": "stream",
     "text": [
      "0\n"
     ]
    },
    {
     "name": "stderr",
     "output_type": "stream",
     "text": [
      "<ipython-input-19-c18c775fafb0>:6: SettingWithCopyWarning: \n",
      "A value is trying to be set on a copy of a slice from a DataFrame.\n",
      "Try using .loc[row_indexer,col_indexer] = value instead\n",
      "\n",
      "See the caveats in the documentation: https://pandas.pydata.org/pandas-docs/stable/user_guide/indexing.html#returning-a-view-versus-a-copy\n",
      "  df_loc_temp['orthoheight'] = df_loc_temp['elipsoidal_h'] - df_loc_temp['geoid']\n"
     ]
    }
   ],
   "source": [
    "elevation_joined = elevation_gcp_decimal.merge(elevation_undulation, how=\"left\", on=\"ix\")\n",
    "\n",
    "print(elevation_joined['ix'].isnull().sum())\n",
    "\n",
    "df_loc_temp = elevation_joined[['lat','lon', 'date', 'elipsoidal_h', 'geoid']]\n",
    "df_loc_temp['orthoheight'] = df_loc_temp['elipsoidal_h'] - df_loc_temp['geoid']\n",
    "df_loc = df_loc_temp[['lat','lon', 'orthoheight', 'date']]\n",
    "\n",
    "\n",
    "elevation_orthoheight = gpd.GeoDataFrame(df_loc, geometry=gpd.points_from_xy(df_loc.lon, df_loc.lat))\n",
    "elevation_orthoheight = elevation_orthoheight.set_crs(epsg=4326)\n",
    "elevation_orthoheight = elevation_orthoheight.to_crs(\"EPSG:32618\")\n",
    "elevation_orthoheight['lat'] = elevation_orthoheight.geometry.y\n",
    "elevation_orthoheight['lon'] = elevation_orthoheight.geometry.x\n",
    "elevation_ortho_out = pd.DataFrame(elevation_orthoheight.drop(columns='geometry'))\n",
    "elevation_ortho_out.to_csv(\"elevation_orthoheight.csv\", sep='\\t', index=None)"
   ]
  },
  {
   "cell_type": "markdown",
   "id": "c48a8cdf",
   "metadata": {},
   "source": [
    "# parse data for map representation"
   ]
  },
  {
   "cell_type": "code",
   "execution_count": 22,
   "id": "ffe7c0ad",
   "metadata": {},
   "outputs": [
    {
     "name": "stderr",
     "output_type": "stream",
     "text": [
      "<ipython-input-22-d7e97b2209f2>:1: UserWarning: Column names longer than 10 characters will be truncated when saved to ESRI Shapefile.\n",
      "  location_orthoheight.to_file(\"D:/FEMA project/control_pts/Output_shapefiles/location_gcp.shp\")\n"
     ]
    }
   ],
   "source": [
    "location_orthoheight.to_file(\"D:/FEMA project/control_pts/Output_shapefiles/location_gcp.shp\")"
   ]
  },
  {
   "cell_type": "code",
   "execution_count": 23,
   "id": "c8dc6430",
   "metadata": {},
   "outputs": [
    {
     "name": "stderr",
     "output_type": "stream",
     "text": [
      "<ipython-input-23-09c35e04fab1>:1: UserWarning: Column names longer than 10 characters will be truncated when saved to ESRI Shapefile.\n",
      "  elevation_orthoheight.to_file(\"D:/FEMA project/control_pts/Output_shapefiles/elevation_gcp.shp\")\n"
     ]
    }
   ],
   "source": [
    "elevation_orthoheight.to_file(\"D:/FEMA project/control_pts/Output_shapefiles/elevation_gcp.shp\")"
   ]
  }
 ],
 "metadata": {
  "kernelspec": {
   "display_name": "Python 3",
   "language": "python",
   "name": "python3"
  },
  "language_info": {
   "codemirror_mode": {
    "name": "ipython",
    "version": 3
   },
   "file_extension": ".py",
   "mimetype": "text/x-python",
   "name": "python",
   "nbconvert_exporter": "python",
   "pygments_lexer": "ipython3",
   "version": "3.9.2"
  }
 },
 "nbformat": 4,
 "nbformat_minor": 5
}
